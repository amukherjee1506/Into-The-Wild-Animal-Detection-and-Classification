{
 "cells": [
  {
   "cell_type": "code",
   "execution_count": 34,
   "metadata": {},
   "outputs": [
    {
     "name": "stdout",
     "output_type": "stream",
     "text": [
      "0.00% = badger AP \n",
      "44.75% = bird AP \n",
      "80.87% = bobcat AP \n",
      "99.95% = car AP \n",
      "90.95% = cat AP \n",
      "89.69% = coyote AP \n",
      "45.21% = deer AP \n",
      "74.43% = dog AP \n",
      "0.00% = fox AP \n",
      "94.75% = opossum AP \n",
      "90.09% = rabbit AP \n",
      "88.85% = raccoon AP \n",
      "68.33% = rodent AP \n",
      "82.52% = skunk AP \n",
      "62.12% = squirrel AP \n",
      "mAP = 67.50%\n",
      "Figure(640x480)\n"
     ]
    }
   ],
   "source": [
    "!python main.py"
   ]
  },
  {
   "cell_type": "code",
   "execution_count": 30,
   "metadata": {},
   "outputs": [],
   "source": [
    "import os\n",
    "\n",
    "os.chdir(\"C:\\\\Users\\Vaibhav\\Desktop\\mAP-master\\ground-truth\")\n",
    "os.chdir(\"C:\\\\Users\\Vaibhav\\Desktop\\mAP-master\")\n",
    "# print(os.c)"
   ]
  },
  {
   "cell_type": "code",
   "execution_count": 25,
   "metadata": {},
   "outputs": [],
   "source": [
    "import sys\n",
    "import os\n",
    "import glob\n",
    "\n",
    "## This script ensures same number of files in ground-truth and predicted folder.\n",
    "## When you encounter file not found error, it's usually because you have\n",
    "## mismatched numbers of ground-truth and predicted files.\n",
    "## You can use this script to move ground-truth and predicted files that are\n",
    "## not in the intersection into a backup folder (backup_no_matches_found).\n",
    "## This will retain only files that have the same name in both folders.\n",
    "\n",
    "# change directory to the one with the files to be changed\n",
    "path_to_gt = \"C:\\\\Users\\Vaibhav\\Desktop\\mAP-master\\ground-truth\"\n",
    "path_to_pred = \"C:\\\\Users\\Vaibhav\\Desktop\\mAP-master\\predicted\"\n",
    "backup_folder = 'backup_no_matches_found' # must end without slash"
   ]
  },
  {
   "cell_type": "code",
   "execution_count": 26,
   "metadata": {},
   "outputs": [
    {
     "name": "stdout",
     "output_type": "stream",
     "text": [
      ".\n"
     ]
    }
   ],
   "source": [
    "print(os.curdir)"
   ]
  },
  {
   "cell_type": "code",
   "execution_count": 29,
   "metadata": {},
   "outputs": [
    {
     "name": "stdout",
     "output_type": "stream",
     "text": [
      "total ground-truth files: 10801\n",
      "total predicted files: 10801\n",
      "\n"
     ]
    }
   ],
   "source": [
    "os.chdir(path_to_gt)\n",
    "gt_files = glob.glob('*.txt')\n",
    "if len(gt_files) == 0:\n",
    "    print(\"Error: no .txt files found in\", path_to_gt)\n",
    "    sys.exit()\n",
    "os.chdir(path_to_pred)\n",
    "pred_files = glob.glob('*.txt')\n",
    "if len(pred_files) == 0:\n",
    "    print(\"Error: no .txt files found in\", path_to_pred)\n",
    "    sys.exit()\n",
    "\n",
    "gt_files = set(gt_files)\n",
    "pred_files = set(pred_files)\n",
    "print('total ground-truth files:', len(gt_files))\n",
    "print('total predicted files:', len(pred_files))\n",
    "print()\n",
    "\n",
    "gt_backup = gt_files - pred_files\n",
    "pred_backup = pred_files - gt_files"
   ]
  },
  {
   "cell_type": "code",
   "execution_count": 28,
   "metadata": {},
   "outputs": [
    {
     "name": "stdout",
     "output_type": "stream",
     "text": [
      "No backup required for C:\\Users\\Vaibhav\\Desktop\\mAP-master\\predicted\n",
      "total ground-truth backup files: 1298\n",
      "total intersected files: 10801\n",
      "Intersection completed!\n"
     ]
    }
   ],
   "source": [
    "def backup(src_folder, backup_files, backup_folder):\n",
    "    # non-intersection files (txt format) will be moved to a backup folder\n",
    "    if not backup_files:\n",
    "        print('No backup required for', src_folder)\n",
    "        return\n",
    "    os.chdir(src_folder)\n",
    "    ## create the backup dir if it doesn't exist already\n",
    "    if not os.path.exists(backup_folder):\n",
    "        os.makedirs(backup_folder)\n",
    "    for file in backup_files:\n",
    "        os.rename(file, backup_folder + '/' + file)\n",
    "    \n",
    "backup(path_to_gt, gt_backup, backup_folder)\n",
    "backup(path_to_pred, pred_backup, backup_folder)\n",
    "if gt_backup:\n",
    "    print('total ground-truth backup files:', len(gt_backup))\n",
    "if pred_backup:\n",
    "    print('total predicted backup files:', len(pred_backup))\n",
    "\n",
    "intersection = gt_files & pred_files\n",
    "print('total intersected files:', len(intersection))\n",
    "print(\"Intersection completed!\")"
   ]
  },
  {
   "cell_type": "code",
   "execution_count": null,
   "metadata": {},
   "outputs": [],
   "source": []
  }
 ],
 "metadata": {
  "kernelspec": {
   "display_name": "Python 3",
   "language": "python",
   "name": "python3"
  },
  "language_info": {
   "codemirror_mode": {
    "name": "ipython",
    "version": 3
   },
   "file_extension": ".py",
   "mimetype": "text/x-python",
   "name": "python",
   "nbconvert_exporter": "python",
   "pygments_lexer": "ipython3",
   "version": "3.6.5"
  }
 },
 "nbformat": 4,
 "nbformat_minor": 2
}
